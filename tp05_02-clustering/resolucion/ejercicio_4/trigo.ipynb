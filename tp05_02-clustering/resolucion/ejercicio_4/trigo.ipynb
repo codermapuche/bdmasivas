{
 "metadata": {
  "language_info": {
   "codemirror_mode": {
    "name": "ipython",
    "version": 3
   },
   "file_extension": ".py",
   "mimetype": "text/x-python",
   "name": "python",
   "nbconvert_exporter": "python",
   "pygments_lexer": "ipython3",
   "version": "3.8.6-final"
  },
  "orig_nbformat": 2,
  "kernelspec": {
   "name": "python3",
   "display_name": "Python 3"
  }
 },
 "nbformat": 4,
 "nbformat_minor": 2,
 "cells": [
  {
   "source": [
    "### Universidad Nacional de Lujan - Bases de Datos Masivas (11088) - Cavasin Nicolas #143501\n",
    "# TP05-02 - Clustering\n",
    "\n",
    "### Ejercicio 4:\n",
    "**K-means**. Se provee un dataset sobre las características internas del núcleo de tres clases de trigo diferentes. Cargue el dataset en una de las herramientas de minería de datos provistas y resuelva:\n",
    "\n",
    "a. Utilice el algoritmo k-medias variando la cantidad de centroides a efectos de agrupar los datos de la manera más eficiente.\n",
    "\n",
    "b. ¿Cuál es la cantidad de grupos que permite un mejor agrupamiento de los datos? ¿Mediante cual métrica puede verificar esto?\n",
    "\n",
    "c. ¿Cuáles son las características más distintivas de cada uno de los cluters resultantes?\n",
    "\n"
   ],
   "cell_type": "markdown",
   "metadata": {}
  },
  {
   "cell_type": "code",
   "execution_count": 1,
   "metadata": {},
   "outputs": [
    {
     "output_type": "stream",
     "name": "stdout",
     "text": [
      "--2020-11-18 18:39:13--  https://raw.githubusercontent.com/bdm-unlu/2020/master/TPs/TP05/TP0502/trigo.csv\n",
      "Loaded CA certificate '/etc/ssl/certs/ca-certificates.crt'\n",
      "Resolving raw.githubusercontent.com (raw.githubusercontent.com)... 151.101.216.133\n",
      "Connecting to raw.githubusercontent.com (raw.githubusercontent.com)|151.101.216.133|:443... connected.\n",
      "HTTP request sent, awaiting response... 200 OK\n",
      "Length: 9369 (9.1K) [text/plain]\n",
      "Saving to: 'trigo.csv'\n",
      "\n",
      "trigo.csv           100%[===================>]   9.15K  --.-KB/s    in 0.001s  \n",
      "\n",
      "2020-11-18 18:39:14 (7.95 MB/s) - 'trigo.csv' saved [9369/9369]\n",
      "\n"
     ]
    }
   ],
   "source": [
    "! rm trigo.csv\n",
    "!wget https://raw.githubusercontent.com/bdm-unlu/2020/master/TPs/TP05/TP0502/trigo.csv"
   ]
  },
  {
   "cell_type": "code",
   "execution_count": 2,
   "metadata": {},
   "outputs": [
    {
     "output_type": "stream",
     "name": "stdout",
     "text": [
      "Cantidad de tuplas: 210.\nCantidad de columnas: 8.\nCantidad de NaN's: 0.\n\nTipos de dato en cada columna: \narea               object\nperimetro          object\ncompact            object\nlong_kernel        object\nancho_kernel       object\ncoef_asimetrima    object\nlong_ranura        object\ntipo                int64\ndtype: object\n"
     ]
    },
    {
     "output_type": "execute_result",
     "data": {
      "text/plain": [
       "    area perimetro compact long_kernel ancho_kernel coef_asimetrima  \\\n",
       "0  15,26     14,84   0,871       5,763        3,312           2,221   \n",
       "1  14,88     14,57  0,8811       5,554        3,333           1,018   \n",
       "2  14,29     14,09   0,905       5,291        3,337           2,699   \n",
       "3  13,84     13,94  0,8955       5,324        3,379           2,259   \n",
       "4  16,14     14,99  0,9034       5,658        3,562           1,355   \n",
       "\n",
       "  long_ranura  tipo  \n",
       "0        5,22     1  \n",
       "1       4,956     1  \n",
       "2       4,825     1  \n",
       "3       4,805     1  \n",
       "4       5,175     1  "
      ],
      "text/html": "<div>\n<style scoped>\n    .dataframe tbody tr th:only-of-type {\n        vertical-align: middle;\n    }\n\n    .dataframe tbody tr th {\n        vertical-align: top;\n    }\n\n    .dataframe thead th {\n        text-align: right;\n    }\n</style>\n<table border=\"1\" class=\"dataframe\">\n  <thead>\n    <tr style=\"text-align: right;\">\n      <th></th>\n      <th>area</th>\n      <th>perimetro</th>\n      <th>compact</th>\n      <th>long_kernel</th>\n      <th>ancho_kernel</th>\n      <th>coef_asimetrima</th>\n      <th>long_ranura</th>\n      <th>tipo</th>\n    </tr>\n  </thead>\n  <tbody>\n    <tr>\n      <th>0</th>\n      <td>15,26</td>\n      <td>14,84</td>\n      <td>0,871</td>\n      <td>5,763</td>\n      <td>3,312</td>\n      <td>2,221</td>\n      <td>5,22</td>\n      <td>1</td>\n    </tr>\n    <tr>\n      <th>1</th>\n      <td>14,88</td>\n      <td>14,57</td>\n      <td>0,8811</td>\n      <td>5,554</td>\n      <td>3,333</td>\n      <td>1,018</td>\n      <td>4,956</td>\n      <td>1</td>\n    </tr>\n    <tr>\n      <th>2</th>\n      <td>14,29</td>\n      <td>14,09</td>\n      <td>0,905</td>\n      <td>5,291</td>\n      <td>3,337</td>\n      <td>2,699</td>\n      <td>4,825</td>\n      <td>1</td>\n    </tr>\n    <tr>\n      <th>3</th>\n      <td>13,84</td>\n      <td>13,94</td>\n      <td>0,8955</td>\n      <td>5,324</td>\n      <td>3,379</td>\n      <td>2,259</td>\n      <td>4,805</td>\n      <td>1</td>\n    </tr>\n    <tr>\n      <th>4</th>\n      <td>16,14</td>\n      <td>14,99</td>\n      <td>0,9034</td>\n      <td>5,658</td>\n      <td>3,562</td>\n      <td>1,355</td>\n      <td>5,175</td>\n      <td>1</td>\n    </tr>\n  </tbody>\n</table>\n</div>"
     },
     "metadata": {},
     "execution_count": 2
    }
   ],
   "source": [
    "import pandas as pd\n",
    "\n",
    "trigo = pd.read_csv('trigo.csv', delimiter=';')\n",
    "\n",
    "print(f'Cantidad de tuplas: {trigo.shape[0]}.')\n",
    "print(f'Cantidad de columnas: {trigo.shape[1]}.')\n",
    "print(f'Cantidad de NaN\\'s: {trigo.isnull().sum().sum()}.\\n')\n",
    "print(f'Tipos de dato en cada columna: \\n{trigo.dtypes}')\n",
    "trigo.head()"
   ]
  },
  {
   "source": [
    "Se puede observar lo siguiente:\n",
    "\n",
    "- El dataset no posee NaN's.\n",
    "- Los valores son strings que deben ser convertidos a numericos.\n",
    "- Posteriormente deben ser escalados para poder aplicar K-Means, ya que se basa en distancias y cada columna tiene diferentes unidades acordes al tipo de dato que representan."
   ],
   "cell_type": "markdown",
   "metadata": {}
  },
  {
   "cell_type": "code",
   "execution_count": 3,
   "metadata": {},
   "outputs": [
    {
     "output_type": "execute_result",
     "data": {
      "text/plain": [
       "    area  perimetro  compact  long_kernel  ancho_kernel  coef_asimetrima  \\\n",
       "0  15.26      14.84   0.8710        5.763         3.312            2.221   \n",
       "1  14.88      14.57   0.8811        5.554         3.333            1.018   \n",
       "2  14.29      14.09   0.9050        5.291         3.337            2.699   \n",
       "3  13.84      13.94   0.8955        5.324         3.379            2.259   \n",
       "4  16.14      14.99   0.9034        5.658         3.562            1.355   \n",
       "\n",
       "   long_ranura  tipo  \n",
       "0        5.220     1  \n",
       "1        4.956     1  \n",
       "2        4.825     1  \n",
       "3        4.805     1  \n",
       "4        5.175     1  "
      ],
      "text/html": "<div>\n<style scoped>\n    .dataframe tbody tr th:only-of-type {\n        vertical-align: middle;\n    }\n\n    .dataframe tbody tr th {\n        vertical-align: top;\n    }\n\n    .dataframe thead th {\n        text-align: right;\n    }\n</style>\n<table border=\"1\" class=\"dataframe\">\n  <thead>\n    <tr style=\"text-align: right;\">\n      <th></th>\n      <th>area</th>\n      <th>perimetro</th>\n      <th>compact</th>\n      <th>long_kernel</th>\n      <th>ancho_kernel</th>\n      <th>coef_asimetrima</th>\n      <th>long_ranura</th>\n      <th>tipo</th>\n    </tr>\n  </thead>\n  <tbody>\n    <tr>\n      <th>0</th>\n      <td>15.26</td>\n      <td>14.84</td>\n      <td>0.8710</td>\n      <td>5.763</td>\n      <td>3.312</td>\n      <td>2.221</td>\n      <td>5.220</td>\n      <td>1</td>\n    </tr>\n    <tr>\n      <th>1</th>\n      <td>14.88</td>\n      <td>14.57</td>\n      <td>0.8811</td>\n      <td>5.554</td>\n      <td>3.333</td>\n      <td>1.018</td>\n      <td>4.956</td>\n      <td>1</td>\n    </tr>\n    <tr>\n      <th>2</th>\n      <td>14.29</td>\n      <td>14.09</td>\n      <td>0.9050</td>\n      <td>5.291</td>\n      <td>3.337</td>\n      <td>2.699</td>\n      <td>4.825</td>\n      <td>1</td>\n    </tr>\n    <tr>\n      <th>3</th>\n      <td>13.84</td>\n      <td>13.94</td>\n      <td>0.8955</td>\n      <td>5.324</td>\n      <td>3.379</td>\n      <td>2.259</td>\n      <td>4.805</td>\n      <td>1</td>\n    </tr>\n    <tr>\n      <th>4</th>\n      <td>16.14</td>\n      <td>14.99</td>\n      <td>0.9034</td>\n      <td>5.658</td>\n      <td>3.562</td>\n      <td>1.355</td>\n      <td>5.175</td>\n      <td>1</td>\n    </tr>\n  </tbody>\n</table>\n</div>"
     },
     "metadata": {},
     "execution_count": 3
    }
   ],
   "source": [
    "import numpy as np\n",
    "\n",
    "# Clono el ds\n",
    "trigo_numerizado = trigo.copy()\n",
    "\n",
    "# Convierto todos los strings a numericos\n",
    "for col in trigo.columns:\n",
    "    if col != 'tipo':\n",
    "        trigo_numerizado[col] = pd.to_numeric(trigo[col].str.replace(',','.'))\n",
    "\n",
    "# Muestro como quedo\n",
    "trigo_numerizado.head()\n"
   ]
  },
  {
   "cell_type": "code",
   "execution_count": 4,
   "metadata": {
    "tags": []
   },
   "outputs": [
    {
     "output_type": "execute_result",
     "data": {
      "text/plain": [
       "       area  perimetro   compact  long_kernel  ancho_kernel  coef_asimetrima  \\\n",
       "0  0.142098   0.215462  0.000061     0.304218      0.141702        -0.986152   \n",
       "1  0.011188   0.008224  0.428515    -0.168625      0.197432        -1.788166   \n",
       "2 -0.192067  -0.360201  1.442383    -0.763637      0.208048        -0.667479   \n",
       "3 -0.347091  -0.475333  1.039381    -0.688978      0.319508        -0.960818   \n",
       "4  0.445257   0.330595  1.374509     0.066666      0.805159        -1.563495   \n",
       "\n",
       "   long_ranura      tipo  \n",
       "0    -0.383577 -1.224745  \n",
       "1    -0.922013 -1.224745  \n",
       "2    -1.189192 -1.224745  \n",
       "3    -1.229983 -1.224745  \n",
       "4    -0.475356 -1.224745  "
      ],
      "text/html": "<div>\n<style scoped>\n    .dataframe tbody tr th:only-of-type {\n        vertical-align: middle;\n    }\n\n    .dataframe tbody tr th {\n        vertical-align: top;\n    }\n\n    .dataframe thead th {\n        text-align: right;\n    }\n</style>\n<table border=\"1\" class=\"dataframe\">\n  <thead>\n    <tr style=\"text-align: right;\">\n      <th></th>\n      <th>area</th>\n      <th>perimetro</th>\n      <th>compact</th>\n      <th>long_kernel</th>\n      <th>ancho_kernel</th>\n      <th>coef_asimetrima</th>\n      <th>long_ranura</th>\n      <th>tipo</th>\n    </tr>\n  </thead>\n  <tbody>\n    <tr>\n      <th>0</th>\n      <td>0.142098</td>\n      <td>0.215462</td>\n      <td>0.000061</td>\n      <td>0.304218</td>\n      <td>0.141702</td>\n      <td>-0.986152</td>\n      <td>-0.383577</td>\n      <td>-1.224745</td>\n    </tr>\n    <tr>\n      <th>1</th>\n      <td>0.011188</td>\n      <td>0.008224</td>\n      <td>0.428515</td>\n      <td>-0.168625</td>\n      <td>0.197432</td>\n      <td>-1.788166</td>\n      <td>-0.922013</td>\n      <td>-1.224745</td>\n    </tr>\n    <tr>\n      <th>2</th>\n      <td>-0.192067</td>\n      <td>-0.360201</td>\n      <td>1.442383</td>\n      <td>-0.763637</td>\n      <td>0.208048</td>\n      <td>-0.667479</td>\n      <td>-1.189192</td>\n      <td>-1.224745</td>\n    </tr>\n    <tr>\n      <th>3</th>\n      <td>-0.347091</td>\n      <td>-0.475333</td>\n      <td>1.039381</td>\n      <td>-0.688978</td>\n      <td>0.319508</td>\n      <td>-0.960818</td>\n      <td>-1.229983</td>\n      <td>-1.224745</td>\n    </tr>\n    <tr>\n      <th>4</th>\n      <td>0.445257</td>\n      <td>0.330595</td>\n      <td>1.374509</td>\n      <td>0.066666</td>\n      <td>0.805159</td>\n      <td>-1.563495</td>\n      <td>-0.475356</td>\n      <td>-1.224745</td>\n    </tr>\n  </tbody>\n</table>\n</div>"
     },
     "metadata": {},
     "execution_count": 4
    }
   ],
   "source": [
    "# Ahora procedo con el escalado de valores\n",
    "from sklearn.preprocessing import scale\n",
    "\n",
    "# Escalo\n",
    "scaled_1 = pd.DataFrame(scale(trigo_numerizado))\n",
    "\n",
    "# Re inserto nombres de columnas\n",
    "scaled_1.columns = trigo.columns\n",
    "\n",
    "# Muestro resultado\n",
    "scaled_1.head()"
   ]
  },
  {
   "cell_type": "code",
   "execution_count": 18,
   "metadata": {},
   "outputs": [
    {
     "output_type": "stream",
     "name": "stdout",
     "text": [
      "Agrupacion resultante:\n[0 0 0 0 0 0 0 0 3 3 3 0 0 0 0 0 0 0 0 0 0 0 0 0 0 0 0 0 0 0 0 0 0 0 0 3 3\n 3 0 0 0 0 0 3 0 0 0 0 0 0 0 3 0 0 0 0 0 0 0 0 0 0 0 0 0 0 0 0 0 0 2 3 3 2\n 3 3 3 2 2 3 3 2 2 2 2 2 2 2 2 2 2 2 2 2 2 3 2 2 2 2 3 2 2 2 2 2 2 3 2 2 2\n 2 2 2 2 2 2 2 2 2 2 2 3 2 3 2 2 2 2 3 2 2 3 3 3 3 2 3 3 3 1 1 1 4 1 1 4 4\n 4 1 1 1 1 4 4 1 4 1 1 1 4 4 1 4 1 4 1 4 1 4 1 1 4 1 1 4 1 1 1 4 4 4 4 4 1\n 1 1 4 1 4 1 4 4 1 4 4 4 4 4 4 4 4 4 1 4 4 4 1 4 4]\nACAAA        area  perimetro   compact  long_kernel  ancho_kernel  coef_asimetrima  \\\n0   0.142098   0.215462  0.000061     0.304218      0.141702        -0.986152   \n1   0.011188   0.008224  0.428515    -0.168625      0.197432        -1.788166   \n2  -0.192067  -0.360201  1.442383    -0.763637      0.208048        -0.667479   \n3  -0.347091  -0.475333  1.039381    -0.688978      0.319508        -0.960818   \n4   0.445257   0.330595  1.374509     0.066666      0.805159        -1.563495   \n..       ...        ...       ...          ...           ...              ...   \n65 -0.677811  -0.813055  0.716980    -1.107523     -0.370487        -0.898817   \n66 -0.174842  -0.145286  0.067935     0.003318     -0.182065        -1.591496   \n67 -0.288526  -0.206690 -0.360520    -0.044192     -0.266988        -0.988818   \n68 -0.164507  -0.129935  0.067935    -0.134689     -0.280257        -1.490828   \n69 -0.729486  -0.621168 -1.068955    -0.489886     -0.999445        -0.111469   \n\n    long_ranura      tipo  \n0     -0.383577 -1.224745  \n1     -0.922013 -1.224745  \n2     -1.189192 -1.224745  \n3     -1.229983 -1.224745  \n4     -0.475356 -1.224745  \n..          ...       ...  \n65    -1.633810 -1.224745  \n66    -0.526345 -1.224745  \n67    -0.563056 -1.224745  \n68    -0.220415 -1.224745  \n69    -0.695626 -1.224745  \n\n[62 rows x 8 columns]\n"
     ]
    },
    {
     "output_type": "error",
     "ename": "TypeError",
     "evalue": "'(array([ True,  True,  True,  True,  True,  True,  True,  True, False,\n       False, False,  True,  True,  True,  True,  True,  True,  True,\n        True,  True,  True,  True,  True,  True,  True,  True,  True,\n        True,  True,  True,  True,  True,  True,  True,  True, False,\n       False, False,  True,  True,  True,  True,  True, False,  True,\n        True,  True,  True,  True,  True,  True, False,  True,  True,\n        True,  True,  True,  True,  True,  True,  True,  True,  True,\n        True,  True,  True,  True,  True,  True,  True, False, False,\n       False, False, False, False, False, False, False, False, False,\n       False, False, False, False, False, False, False, False, False,\n       False, False, False, False, False, False, False, False, False,\n       False, False, False, False, False, False, False, False, False,\n       False, False, False, False, False, False, False, False, False,\n       False, False, False, False, False, False, False, False, False,\n       False, False, False, False, False, False, False, False, False,\n       False, False, False, False, False, False, False, False, False,\n       False, False, False, False, False, False, False, False, False,\n       False, False, False, False, False, False, False, False, False,\n       False, False, False, False, False, False, False, False, False,\n       False, False, False, False, False, False, False, False, False,\n       False, False, False, False, False, False, False, False, False,\n       False, False, False, False, False, False, False, False, False,\n       False, False, False, False, False, False, False, False, False,\n       False, False, False]), 0)' is an invalid key",
     "traceback": [
      "\u001b[0;31m---------------------------------------------------------------------------\u001b[0m",
      "\u001b[0;31mTypeError\u001b[0m                                 Traceback (most recent call last)",
      "\u001b[0;32m<ipython-input-18-4d91c6a1d422>\u001b[0m in \u001b[0;36m<module>\u001b[0;34m\u001b[0m\n\u001b[1;32m     23\u001b[0m \u001b[0;31m#scatter del primer cluster\u001b[0m\u001b[0;34m\u001b[0m\u001b[0;34m\u001b[0m\u001b[0;34m\u001b[0m\u001b[0m\n\u001b[1;32m     24\u001b[0m plt.scatter(\n\u001b[0;32m---> 25\u001b[0;31m     \u001b[0mscaled_1\u001b[0m\u001b[0;34m[\u001b[0m\u001b[0my_km\u001b[0m \u001b[0;34m==\u001b[0m \u001b[0;36m0\u001b[0m\u001b[0;34m,\u001b[0m \u001b[0;36m0\u001b[0m\u001b[0;34m]\u001b[0m\u001b[0;34m,\u001b[0m \u001b[0mscaled_1\u001b[0m\u001b[0;34m[\u001b[0m\u001b[0my_km\u001b[0m \u001b[0;34m==\u001b[0m \u001b[0;36m0\u001b[0m\u001b[0;34m,\u001b[0m \u001b[0;36m1\u001b[0m\u001b[0;34m]\u001b[0m\u001b[0;34m,\u001b[0m\u001b[0;34m\u001b[0m\u001b[0;34m\u001b[0m\u001b[0m\n\u001b[0m\u001b[1;32m     26\u001b[0m     \u001b[0ms\u001b[0m\u001b[0;34m=\u001b[0m\u001b[0;36m50\u001b[0m\u001b[0;34m,\u001b[0m \u001b[0mc\u001b[0m\u001b[0;34m=\u001b[0m\u001b[0;34m'lightgreen'\u001b[0m\u001b[0;34m,\u001b[0m\u001b[0;34m\u001b[0m\u001b[0;34m\u001b[0m\u001b[0m\n\u001b[1;32m     27\u001b[0m     \u001b[0mmarker\u001b[0m\u001b[0;34m=\u001b[0m\u001b[0;34m's'\u001b[0m\u001b[0;34m,\u001b[0m \u001b[0medgecolor\u001b[0m\u001b[0;34m=\u001b[0m\u001b[0;34m'black'\u001b[0m\u001b[0;34m,\u001b[0m\u001b[0;34m\u001b[0m\u001b[0;34m\u001b[0m\u001b[0m\n",
      "\u001b[0;32m~/.local/lib/python3.8/site-packages/pandas/core/frame.py\u001b[0m in \u001b[0;36m__getitem__\u001b[0;34m(self, key)\u001b[0m\n\u001b[1;32m   2900\u001b[0m             \u001b[0;32mif\u001b[0m \u001b[0mself\u001b[0m\u001b[0;34m.\u001b[0m\u001b[0mcolumns\u001b[0m\u001b[0;34m.\u001b[0m\u001b[0mnlevels\u001b[0m \u001b[0;34m>\u001b[0m \u001b[0;36m1\u001b[0m\u001b[0;34m:\u001b[0m\u001b[0;34m\u001b[0m\u001b[0;34m\u001b[0m\u001b[0m\n\u001b[1;32m   2901\u001b[0m                 \u001b[0;32mreturn\u001b[0m \u001b[0mself\u001b[0m\u001b[0;34m.\u001b[0m\u001b[0m_getitem_multilevel\u001b[0m\u001b[0;34m(\u001b[0m\u001b[0mkey\u001b[0m\u001b[0;34m)\u001b[0m\u001b[0;34m\u001b[0m\u001b[0;34m\u001b[0m\u001b[0m\n\u001b[0;32m-> 2902\u001b[0;31m             \u001b[0mindexer\u001b[0m \u001b[0;34m=\u001b[0m \u001b[0mself\u001b[0m\u001b[0;34m.\u001b[0m\u001b[0mcolumns\u001b[0m\u001b[0;34m.\u001b[0m\u001b[0mget_loc\u001b[0m\u001b[0;34m(\u001b[0m\u001b[0mkey\u001b[0m\u001b[0;34m)\u001b[0m\u001b[0;34m\u001b[0m\u001b[0;34m\u001b[0m\u001b[0m\n\u001b[0m\u001b[1;32m   2903\u001b[0m             \u001b[0;32mif\u001b[0m \u001b[0mis_integer\u001b[0m\u001b[0;34m(\u001b[0m\u001b[0mindexer\u001b[0m\u001b[0;34m)\u001b[0m\u001b[0;34m:\u001b[0m\u001b[0;34m\u001b[0m\u001b[0;34m\u001b[0m\u001b[0m\n\u001b[1;32m   2904\u001b[0m                 \u001b[0mindexer\u001b[0m \u001b[0;34m=\u001b[0m \u001b[0;34m[\u001b[0m\u001b[0mindexer\u001b[0m\u001b[0;34m]\u001b[0m\u001b[0;34m\u001b[0m\u001b[0;34m\u001b[0m\u001b[0m\n",
      "\u001b[0;32m~/.local/lib/python3.8/site-packages/pandas/core/indexes/base.py\u001b[0m in \u001b[0;36mget_loc\u001b[0;34m(self, key, method, tolerance)\u001b[0m\n\u001b[1;32m   2889\u001b[0m             \u001b[0mcasted_key\u001b[0m \u001b[0;34m=\u001b[0m \u001b[0mself\u001b[0m\u001b[0;34m.\u001b[0m\u001b[0m_maybe_cast_indexer\u001b[0m\u001b[0;34m(\u001b[0m\u001b[0mkey\u001b[0m\u001b[0;34m)\u001b[0m\u001b[0;34m\u001b[0m\u001b[0;34m\u001b[0m\u001b[0m\n\u001b[1;32m   2890\u001b[0m             \u001b[0;32mtry\u001b[0m\u001b[0;34m:\u001b[0m\u001b[0;34m\u001b[0m\u001b[0;34m\u001b[0m\u001b[0m\n\u001b[0;32m-> 2891\u001b[0;31m                 \u001b[0;32mreturn\u001b[0m \u001b[0mself\u001b[0m\u001b[0;34m.\u001b[0m\u001b[0m_engine\u001b[0m\u001b[0;34m.\u001b[0m\u001b[0mget_loc\u001b[0m\u001b[0;34m(\u001b[0m\u001b[0mcasted_key\u001b[0m\u001b[0;34m)\u001b[0m\u001b[0;34m\u001b[0m\u001b[0;34m\u001b[0m\u001b[0m\n\u001b[0m\u001b[1;32m   2892\u001b[0m             \u001b[0;32mexcept\u001b[0m \u001b[0mKeyError\u001b[0m \u001b[0;32mas\u001b[0m \u001b[0merr\u001b[0m\u001b[0;34m:\u001b[0m\u001b[0;34m\u001b[0m\u001b[0;34m\u001b[0m\u001b[0m\n\u001b[1;32m   2893\u001b[0m                 \u001b[0;32mraise\u001b[0m \u001b[0mKeyError\u001b[0m\u001b[0;34m(\u001b[0m\u001b[0mkey\u001b[0m\u001b[0;34m)\u001b[0m \u001b[0;32mfrom\u001b[0m \u001b[0merr\u001b[0m\u001b[0;34m\u001b[0m\u001b[0;34m\u001b[0m\u001b[0m\n",
      "\u001b[0;32mpandas/_libs/index.pyx\u001b[0m in \u001b[0;36mpandas._libs.index.IndexEngine.get_loc\u001b[0;34m()\u001b[0m\n",
      "\u001b[0;32mpandas/_libs/index.pyx\u001b[0m in \u001b[0;36mpandas._libs.index.IndexEngine.get_loc\u001b[0;34m()\u001b[0m\n",
      "\u001b[0;31mTypeError\u001b[0m: '(array([ True,  True,  True,  True,  True,  True,  True,  True, False,\n       False, False,  True,  True,  True,  True,  True,  True,  True,\n        True,  True,  True,  True,  True,  True,  True,  True,  True,\n        True,  True,  True,  True,  True,  True,  True,  True, False,\n       False, False,  True,  True,  True,  True,  True, False,  True,\n        True,  True,  True,  True,  True,  True, False,  True,  True,\n        True,  True,  True,  True,  True,  True,  True,  True,  True,\n        True,  True,  True,  True,  True,  True,  True, False, False,\n       False, False, False, False, False, False, False, False, False,\n       False, False, False, False, False, False, False, False, False,\n       False, False, False, False, False, False, False, False, False,\n       False, False, False, False, False, False, False, False, False,\n       False, False, False, False, False, False, False, False, False,\n       False, False, False, False, False, False, False, False, False,\n       False, False, False, False, False, False, False, False, False,\n       False, False, False, False, False, False, False, False, False,\n       False, False, False, False, False, False, False, False, False,\n       False, False, False, False, False, False, False, False, False,\n       False, False, False, False, False, False, False, False, False,\n       False, False, False, False, False, False, False, False, False,\n       False, False, False, False, False, False, False, False, False,\n       False, False, False, False, False, False, False, False, False,\n       False, False, False, False, False, False, False, False, False,\n       False, False, False]), 0)' is an invalid key"
     ]
    }
   ],
   "source": [
    "# Importo para clusterizar\n",
    "from sklearn.cluster import KMeans\n",
    "\n",
    "# Importo para graficar\n",
    "import matplotlib.pyplot as plt\n",
    "\n",
    "# Instancio el algoritmo con 5 centroides iniciales\n",
    "km = KMeans(\n",
    "    init='random',\n",
    "    n_clusters=5,\n",
    "    n_init=10, \n",
    "    random_state=0\n",
    ")\n",
    "\n",
    "# Ejecuto el algoritmo\n",
    "y_km = km.fit_predict(scaled_1)\n",
    "\n",
    "print(f'Agrupacion resultante:\\n{y_km}')\n",
    "print(f'ACAAA{scaled_1[y_km == 0]}')\n",
    "\n",
    "plt.figure(figsize=(10,7))\n",
    "\n",
    "#scatter del primer cluster\n",
    "plt.scatter(\n",
    "    scaled_1[y_km == 0, 0], scaled_1[y_km == 0, 1],\n",
    "    s=50, c='lightgreen',\n",
    "    marker='s', edgecolor='black',\n",
    "    label='cluster 1'\n",
    ")\n",
    "#scatter del segundo cluster\n",
    "plt.scatter(\n",
    "    scaled_1[y_km == 1, 0], scaled_1[y_km == 1, 1],\n",
    "    s=50, c='orange',\n",
    "    marker='o', edgecolor='black',\n",
    "    label='cluster 2'\n",
    ")\n",
    "#scatter del tercer cluster\n",
    "plt.scatter(\n",
    "    scaled_1[y_km == 2, 0], scaled_1[y_km == 2, 1],\n",
    "    s=50, c='lightblue',\n",
    "    marker='v', edgecolor='black',\n",
    "    label='cluster 3'\n",
    ")\n",
    "#scatter del los centroides\n",
    "plt.scatter(\n",
    "    km.cluster_centers_[:, 0], km.cluster_centers_[:, 1],\n",
    "    s=250, marker='*',\n",
    "    c='red', edgecolor='black',\n",
    "    label='centroides'\n",
    ")\n",
    "#le pongo la leyenda\n",
    "plt.legend(scatterpoints=1)\n",
    "#hace una grilla en el grafico\n",
    "plt.grid()\n",
    "#lo imprime en pantalla\n",
    "plt.show()"
   ]
  }
 ]
}