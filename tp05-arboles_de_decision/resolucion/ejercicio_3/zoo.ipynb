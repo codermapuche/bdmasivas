{
 "metadata": {
  "language_info": {
   "codemirror_mode": {
    "name": "ipython",
    "version": 3
   },
   "file_extension": ".py",
   "mimetype": "text/x-python",
   "name": "python",
   "nbconvert_exporter": "python",
   "pygments_lexer": "ipython3",
   "version": "3.8.6-final"
  },
  "orig_nbformat": 2,
  "kernelspec": {
   "name": "Python 3.8.6 64-bit",
   "display_name": "Python 3.8.6 64-bit",
   "metadata": {
    "interpreter": {
     "hash": "767d51c1340bd893661ea55ea3124f6de3c7a262a8b4abca0554b478b1e2ff90"
    }
   }
  }
 },
 "nbformat": 4,
 "nbformat_minor": 2,
 "cells": [
  {
   "source": [
    "### Universidad Nacional de Lujan - Bases de Datos Masivas (11088) - Cavasin Nicolas #143501\n",
    "# TP05-01 - Árboles de decisión\n",
    "\n",
    "### Ejercicio 3:\n",
    "Ahora, analice el archivo *zoo.csv*. Genere el árbol de decisión que permita inferir el tipo de animal en función de sus características. Explique someramente que resultado se obtiene en términos del árbol y en términos de la eficiencia del mismo.\n",
    "- ¿Varía ese resultado si se elimina el atributo “animal”?¿Por qué?\n",
    "\n",
    "- Cuantos niveles posee el árbol generado? ¿Qué atributos debemos modificar si deseamos realizar una poda del mismo? Modifique esos atributos para que el árbol generado conste de 4 niveles. ¿Afecta la eficiencia de la clasificación esta modificación?\n",
    "    "
   ],
   "cell_type": "markdown",
   "metadata": {}
  },
  {
   "cell_type": "code",
   "execution_count": 1,
   "metadata": {
    "tags": []
   },
   "outputs": [
    {
     "output_type": "stream",
     "name": "stdout",
     "text": "--2020-11-09 20:23:23--  https://raw.githubusercontent.com/bdm-unlu/2020/master/TPs/TP05/TP0501/zoo.csv\nLoaded CA certificate &#39;/etc/ssl/certs/ca-certificates.crt&#39;\nResolving raw.githubusercontent.com (raw.githubusercontent.com)... 151.101.216.133\nConnecting to raw.githubusercontent.com (raw.githubusercontent.com)|151.101.216.133|:443... connected.\nHTTP request sent, awaiting response... 200 OK\nLength: 10171 (9.9K) [text/plain]\nSaving to: &#39;zoo.csv&#39;\n\nzoo.csv             100%[===================&gt;]   9.93K  --.-KB/s    in 0.006s  \n\n2020-11-09 20:23:24 (1.68 MB/s) - &#39;zoo.csv&#39; saved [10171/10171]\n\n"
    }
   ],
   "source": [
    "!rm zoo.csv\n",
    "!wget https://raw.githubusercontent.com/bdm-unlu/2020/master/TPs/TP05/TP0501/zoo.csv\n"
   ]
  },
  {
   "cell_type": "code",
   "execution_count": 2,
   "metadata": {},
   "outputs": [
    {
     "output_type": "execute_result",
     "data": {
      "text/plain": "     animal   hair  feathers   eggs   milk  airborne  aquatic  predator  \\\n0  aardvark   True     False  False   True     False    False      True   \n1  antelope   True     False  False   True     False    False     False   \n2      bass  False     False   True  False     False     True      True   \n3      bear   True     False  False   True     False    False      True   \n4      boar   True     False  False   True     False    False      True   \n\n   toothed  backbone  breathes  venomous   fins  legs   tail  domestic  \\\n0     True      True      True     False  False     4  False     False   \n1     True      True      True     False  False     4   True     False   \n2     True      True     False     False   True     0   True     False   \n3     True      True      True     False  False     4  False     False   \n4     True      True      True     False  False     4   True     False   \n\n   catsize    type  \n0     True  mammal  \n1     True  mammal  \n2    False    fish  \n3     True  mammal  \n4     True  mammal  ",
      "text/html": "<div>\n<style scoped>\n    .dataframe tbody tr th:only-of-type {\n        vertical-align: middle;\n    }\n\n    .dataframe tbody tr th {\n        vertical-align: top;\n    }\n\n    .dataframe thead th {\n        text-align: right;\n    }\n</style>\n<table border=\"1\" class=\"dataframe\">\n  <thead>\n    <tr style=\"text-align: right;\">\n      <th></th>\n      <th>animal</th>\n      <th>hair</th>\n      <th>feathers</th>\n      <th>eggs</th>\n      <th>milk</th>\n      <th>airborne</th>\n      <th>aquatic</th>\n      <th>predator</th>\n      <th>toothed</th>\n      <th>backbone</th>\n      <th>breathes</th>\n      <th>venomous</th>\n      <th>fins</th>\n      <th>legs</th>\n      <th>tail</th>\n      <th>domestic</th>\n      <th>catsize</th>\n      <th>type</th>\n    </tr>\n  </thead>\n  <tbody>\n    <tr>\n      <th>0</th>\n      <td>aardvark</td>\n      <td>True</td>\n      <td>False</td>\n      <td>False</td>\n      <td>True</td>\n      <td>False</td>\n      <td>False</td>\n      <td>True</td>\n      <td>True</td>\n      <td>True</td>\n      <td>True</td>\n      <td>False</td>\n      <td>False</td>\n      <td>4</td>\n      <td>False</td>\n      <td>False</td>\n      <td>True</td>\n      <td>mammal</td>\n    </tr>\n    <tr>\n      <th>1</th>\n      <td>antelope</td>\n      <td>True</td>\n      <td>False</td>\n      <td>False</td>\n      <td>True</td>\n      <td>False</td>\n      <td>False</td>\n      <td>False</td>\n      <td>True</td>\n      <td>True</td>\n      <td>True</td>\n      <td>False</td>\n      <td>False</td>\n      <td>4</td>\n      <td>True</td>\n      <td>False</td>\n      <td>True</td>\n      <td>mammal</td>\n    </tr>\n    <tr>\n      <th>2</th>\n      <td>bass</td>\n      <td>False</td>\n      <td>False</td>\n      <td>True</td>\n      <td>False</td>\n      <td>False</td>\n      <td>True</td>\n      <td>True</td>\n      <td>True</td>\n      <td>True</td>\n      <td>False</td>\n      <td>False</td>\n      <td>True</td>\n      <td>0</td>\n      <td>True</td>\n      <td>False</td>\n      <td>False</td>\n      <td>fish</td>\n    </tr>\n    <tr>\n      <th>3</th>\n      <td>bear</td>\n      <td>True</td>\n      <td>False</td>\n      <td>False</td>\n      <td>True</td>\n      <td>False</td>\n      <td>False</td>\n      <td>True</td>\n      <td>True</td>\n      <td>True</td>\n      <td>True</td>\n      <td>False</td>\n      <td>False</td>\n      <td>4</td>\n      <td>False</td>\n      <td>False</td>\n      <td>True</td>\n      <td>mammal</td>\n    </tr>\n    <tr>\n      <th>4</th>\n      <td>boar</td>\n      <td>True</td>\n      <td>False</td>\n      <td>False</td>\n      <td>True</td>\n      <td>False</td>\n      <td>False</td>\n      <td>True</td>\n      <td>True</td>\n      <td>True</td>\n      <td>True</td>\n      <td>False</td>\n      <td>False</td>\n      <td>4</td>\n      <td>True</td>\n      <td>False</td>\n      <td>True</td>\n      <td>mammal</td>\n    </tr>\n  </tbody>\n</table>\n</div>"
     },
     "metadata": {},
     "execution_count": 2
    }
   ],
   "source": [
    "# Importo pandas para manipular los datos\n",
    "import pandas as pd\n",
    "\n",
    "# Leo el archivo\n",
    "zoo = pd.read_csv('zoo.csv')\n",
    "\n",
    "# Muestro algunos datos\n",
    "zoo.head()"
   ]
  },
  {
   "cell_type": "code",
   "execution_count": 3,
   "metadata": {
    "tags": []
   },
   "outputs": [
    {
     "output_type": "stream",
     "name": "stdout",
     "text": "Cantidad de tuplas: 101\nCantidad de columnas: 18\n"
    }
   ],
   "source": [
    "print(f'Cantidad de tuplas: {zoo.shape[0]}')\n",
    "print(f'Cantidad de columnas: {zoo.shape[1]}')"
   ]
  },
  {
   "source": [
    "Como se puede observar, los datos pertenecientes a las columnas *animal* y *type* son del tipo *String*. Los árboles de clasificación no aceptan features del tipo categórico (solo numéricas), pero sí targets.  \n",
    "\n",
    "Por lo tanto, se deberán separar features y targets para luego aplicar la transformación correspondiente a la columna *animal*."
   ],
   "cell_type": "markdown",
   "metadata": {}
  },
  {
   "cell_type": "code",
   "execution_count": 4,
   "metadata": {
    "tags": []
   },
   "outputs": [
    {
     "output_type": "stream",
     "name": "stdout",
     "text": "Nombre de las features: animal hair feathers eggs milk airborne aquatic predator toothed backbone breathes venomous fins legs tail domestic catsize\n\nNombre del target: type\n"
    },
    {
     "output_type": "execute_result",
     "data": {
      "text/plain": "   animal   hair  feathers   eggs   milk  airborne  aquatic  predator  \\\n0       0   True     False  False   True     False    False      True   \n1       1   True     False  False   True     False    False     False   \n2       2  False     False   True  False     False     True      True   \n3       3   True     False  False   True     False    False      True   \n4       4   True     False  False   True     False    False      True   \n\n   toothed  backbone  breathes  venomous   fins  legs   tail  domestic  \\\n0     True      True      True     False  False     4  False     False   \n1     True      True      True     False  False     4   True     False   \n2     True      True     False     False   True     0   True     False   \n3     True      True      True     False  False     4  False     False   \n4     True      True      True     False  False     4   True     False   \n\n   catsize  \n0     True  \n1     True  \n2    False  \n3     True  \n4     True  ",
      "text/html": "<div>\n<style scoped>\n    .dataframe tbody tr th:only-of-type {\n        vertical-align: middle;\n    }\n\n    .dataframe tbody tr th {\n        vertical-align: top;\n    }\n\n    .dataframe thead th {\n        text-align: right;\n    }\n</style>\n<table border=\"1\" class=\"dataframe\">\n  <thead>\n    <tr style=\"text-align: right;\">\n      <th></th>\n      <th>animal</th>\n      <th>hair</th>\n      <th>feathers</th>\n      <th>eggs</th>\n      <th>milk</th>\n      <th>airborne</th>\n      <th>aquatic</th>\n      <th>predator</th>\n      <th>toothed</th>\n      <th>backbone</th>\n      <th>breathes</th>\n      <th>venomous</th>\n      <th>fins</th>\n      <th>legs</th>\n      <th>tail</th>\n      <th>domestic</th>\n      <th>catsize</th>\n    </tr>\n  </thead>\n  <tbody>\n    <tr>\n      <th>0</th>\n      <td>0</td>\n      <td>True</td>\n      <td>False</td>\n      <td>False</td>\n      <td>True</td>\n      <td>False</td>\n      <td>False</td>\n      <td>True</td>\n      <td>True</td>\n      <td>True</td>\n      <td>True</td>\n      <td>False</td>\n      <td>False</td>\n      <td>4</td>\n      <td>False</td>\n      <td>False</td>\n      <td>True</td>\n    </tr>\n    <tr>\n      <th>1</th>\n      <td>1</td>\n      <td>True</td>\n      <td>False</td>\n      <td>False</td>\n      <td>True</td>\n      <td>False</td>\n      <td>False</td>\n      <td>False</td>\n      <td>True</td>\n      <td>True</td>\n      <td>True</td>\n      <td>False</td>\n      <td>False</td>\n      <td>4</td>\n      <td>True</td>\n      <td>False</td>\n      <td>True</td>\n    </tr>\n    <tr>\n      <th>2</th>\n      <td>2</td>\n      <td>False</td>\n      <td>False</td>\n      <td>True</td>\n      <td>False</td>\n      <td>False</td>\n      <td>True</td>\n      <td>True</td>\n      <td>True</td>\n      <td>True</td>\n      <td>False</td>\n      <td>False</td>\n      <td>True</td>\n      <td>0</td>\n      <td>True</td>\n      <td>False</td>\n      <td>False</td>\n    </tr>\n    <tr>\n      <th>3</th>\n      <td>3</td>\n      <td>True</td>\n      <td>False</td>\n      <td>False</td>\n      <td>True</td>\n      <td>False</td>\n      <td>False</td>\n      <td>True</td>\n      <td>True</td>\n      <td>True</td>\n      <td>True</td>\n      <td>False</td>\n      <td>False</td>\n      <td>4</td>\n      <td>False</td>\n      <td>False</td>\n      <td>True</td>\n    </tr>\n    <tr>\n      <th>4</th>\n      <td>4</td>\n      <td>True</td>\n      <td>False</td>\n      <td>False</td>\n      <td>True</td>\n      <td>False</td>\n      <td>False</td>\n      <td>True</td>\n      <td>True</td>\n      <td>True</td>\n      <td>True</td>\n      <td>False</td>\n      <td>False</td>\n      <td>4</td>\n      <td>True</td>\n      <td>False</td>\n      <td>True</td>\n    </tr>\n  </tbody>\n</table>\n</div>"
     },
     "metadata": {},
     "execution_count": 4
    }
   ],
   "source": [
    "# Importo la libreria para aplicar la transformación\n",
    "from sklearn import preprocessing\n",
    "\n",
    "# Instancio el codificador\n",
    "encoder = preprocessing.LabelEncoder()\n",
    "\n",
    "# Defino el target y lo elimino del dataset\n",
    "target_name = 'type'\n",
    "target = zoo.pop(target_name)\n",
    "\n",
    "# Creo una lista con los nombres de las features para almacenarlos\n",
    "features_names = []\n",
    "\n",
    "# Recorro cada columna del dataframe\n",
    "for col in zoo.columns:\n",
    "\n",
    "    # Agrego cada nombre al features_names\n",
    "    features_names.append(col)\n",
    "\n",
    "    # Si col es del tipo string lo transformo a numerico\n",
    "    if zoo[col].dtype == object:\n",
    "        zoo[col] = encoder.fit_transform(zoo[col])\n",
    "\n",
    "# Obtengo features\n",
    "features = zoo[features_names]\n",
    "\n",
    "# Acomoda el encoder de acuerdo a los diferentes valores del target\n",
    "encoder.fit(target)\n",
    "\n",
    "# Obtengo los nombres de dichos valores del target\n",
    "target_classes = encoder.classes_\n",
    "\n",
    "print('Nombre de las features:', *features_names, end='\\n\\n')\n",
    "print(f'Nombre del target: {target_name}')\n",
    "\n",
    "# Muestro como quedaron los datos transformados\n",
    "zoo.head()"
   ]
  },
  {
   "source": [
    "Se aplicó una transformación por el método *LabelEncoder* a la columna *animal* asignándo un número a cada valor *String* encontrado en la columna procesada.  "
   ],
   "cell_type": "markdown",
   "metadata": {}
  },
  {
   "cell_type": "code",
   "execution_count": 5,
   "metadata": {
    "tags": []
   },
   "outputs": [
    {
     "output_type": "stream",
     "name": "stdout",
     "text": "#   | Predicción          |    Original            \n==================================================\n0   | amphibian           |    amphibian           \n--------------------------------------------------\n1   | fish                |    fish                \n--------------------------------------------------\n2   | fish                |    fish                \n--------------------------------------------------\n3   | mammal              |    mammal              \n--------------------------------------------------\n4   | mammal              |    mammal              \n--------------------------------------------------\n5   | mammal              |    mammal              \n--------------------------------------------------\n6   | bird                |    bird                \n--------------------------------------------------\n7   | fish                |    fish                \n--------------------------------------------------\n8   | mammal              |    mammal              \n--------------------------------------------------\n9   | mammal              |    mammal              \n--------------------------------------------------\n10  | invertebrate        |    invertebrate        \n--------------------------------------------------\n11  | mammal              |    mammal              \n--------------------------------------------------\n12  | bird                |    bird                \n--------------------------------------------------\n13  | invertebrate        |    invertebrate        \n--------------------------------------------------\n14  | fish                |    fish                \n--------------------------------------------------\n15  | insect              |    insect              \n--------------------------------------------------\n16  | mammal              |    mammal              \n--------------------------------------------------\n17  | invertebrate        |    insect              \n--------------------------------------------------\n18  | bird                |    bird                \n--------------------------------------------------\n19  | fish                |    fish                \n--------------------------------------------------\n20  | bird                |    bird                \n--------------------------------------------------\n21  | reptile             |    reptile             \n--------------------------------------------------\n22  | mammal              |    mammal              \n--------------------------------------------------\n23  | bird                |    bird                \n--------------------------------------------------\n24  | mammal              |    mammal              \n--------------------------------------------------\n25  | mammal              |    mammal              \n--------------------------------------------------\n26  | mammal              |    mammal              \n--------------------------------------------------\n27  | bird                |    bird                \n--------------------------------------------------\n28  | fish                |    fish                \n--------------------------------------------------\n29  | fish                |    reptile             \n--------------------------------------------------\n30  | fish                |    fish                \n--------------------------------------------------\n\nPrecisión del modelo: 0.9354838709677419\n\nReporte de clasificación: \n              precision    recall  f1-score   support\n\n   amphibian       1.00      1.00      1.00         1\n        bird       1.00      1.00      1.00         6\n        fish       0.88      1.00      0.93         7\n      insect       1.00      0.50      0.67         2\ninvertebrate       0.67      1.00      0.80         2\n      mammal       1.00      1.00      1.00        11\n     reptile       1.00      0.50      0.67         2\n\n    accuracy                           0.94        31\n   macro avg       0.93      0.86      0.87        31\nweighted avg       0.95      0.94      0.93        31\n\n"
    }
   ],
   "source": [
    "# Importo la libreria que permite separar en training y test set\n",
    "from sklearn.model_selection import train_test_split as s\n",
    "\n",
    "# Importo el arbol\n",
    "from sklearn import tree\n",
    "\n",
    "# Importo libreria para graficar\n",
    "import graphviz\n",
    "\n",
    "# Importo las metricas para testear el modelo\n",
    "from sklearn import metrics\n",
    "\n",
    "# Divido el dataset en 70-30 para training y test respectivamente\n",
    "features_train, features_test, target_train, target_test = s(features, target, random_state=0, test_size=0.3)\n",
    "\n",
    "# Instancio el arbol por entropia\n",
    "t = tree.DecisionTreeClassifier(criterion='entropy')\n",
    "\n",
    "# Lo entreno\n",
    "t.fit(features_train, target_train)\n",
    "\n",
    "# Almaceno el modelo en formato DOT\n",
    "zoo_dot = tree.export_graphviz(t\n",
    "                    , out_file=None\n",
    "                    , feature_names=features_names\n",
    "                    , class_names=target_classes\n",
    "                    , label='all'\n",
    "                    , filled=True, rounded=True\n",
    "                    , special_characters=True)\n",
    "\n",
    "# Tambien lo guardo como PNG\n",
    "graph = graphviz.Source(zoo_dot)\n",
    "graph.format = 'png'\n",
    "graph.render('zoo')\n",
    "\n",
    "# Obtengo la prediccion con el set de prueba definido anteriormente\n",
    "prediccion = t.predict(features_test)\n",
    "\n",
    "# Convierto a array para poder imprimirlo + facil\n",
    "target_test = pd.array(target_test)\n",
    "\n",
    "# Muestro prediccion vs original\n",
    "header = '{:<4}{:<2}{:<20}{:<5}{:<20}'.format('#', '|', 'Predicción', '|', 'Original')\n",
    "print(header)\n",
    "print('='*50, end='')\n",
    "sep = '|'\n",
    "for i in range(len(prediccion)):\n",
    "    print(f\"\\n{str(i).ljust(4, ' ')}{sep.ljust(2, ' ')}{prediccion[i].ljust(20, ' ')}{sep.ljust(5, ' ')}{target_test[i].ljust(20, ' ')}\\n\", end='-'*50)\n",
    "\n",
    "# Veo qué tan acertado estuvo\n",
    "print(f'\\n\\nPrecisión del modelo: {metrics.accuracy_score(target_test, prediccion)}', end='\\n\\n')\n",
    "\n",
    "# Muestro un reporte de clasificación con diferentes métricas sobre cada feature \n",
    "print(f'Reporte de clasificación: \\n{metrics.classification_report(target_test, prediccion)}')"
   ]
  },
  {
   "source": [
    "Árbol de clasificación sobre el dataset en estado original:\n",
    "\n",
    "![Arbol](zoo.png)"
   ],
   "cell_type": "markdown",
   "metadata": {
    "tags": []
   }
  },
  {
   "source": [
    "***Observaciones:***\n",
    "- El modelo posee una profundidad de 6 niveles.\n",
    "- La hoja con menor cantidad de samples posee 1 y la de mayor cantidad posee 30 samples, de todos animales mamíferos.\n",
    "- El modelo obtenido se encuentra muy desbalanceado hacia izquierda. \n",
    "- El sub-árbol que comienza en el nivel 1 está balanceado.\n",
    "- Aparentemente el dataset posee varios animales no-mamíferos (reptiles, insectos, aves, etc.) y la feature de mayor GI es \"¿Se alimenta el animal con leche?\" que se corresponde con la columna *milk*. \n",
    "- Al dividir utilizando dicha feature se obtiene un gran desbalanceo en la construcción del árbol ante la dificultad para clasificar todos los registros de animales no-mamíferos.\n",
    "- A pesar de lo indicado acerca del desbalanceo, el modelo parecería clasificar bien porque las métricas indican una gran precisión del 96.7%, reportando un único error: confusión de *fish* con *anfibio*.\n",
    "\n",
    "\n",
    "___\n",
    "\n",
    "\n",
    "A continuación se eliminará la columna *animal* para observar el comportamiento del modelo resultante."
   ],
   "cell_type": "markdown",
   "metadata": {}
  },
  {
   "cell_type": "code",
   "execution_count": 6,
   "metadata": {
    "tags": []
   },
   "outputs": [
    {
     "output_type": "stream",
     "name": "stdout",
     "text": "\n\nPrecisión del modelo: 0.967741935483871\n\nReporte de clasificación: \n              precision    recall  f1-score   support\n\n   amphibian       0.50      1.00      0.67         1\n        bird       1.00      1.00      1.00         6\n        fish       1.00      1.00      1.00         7\n      insect       1.00      1.00      1.00         2\ninvertebrate       1.00      1.00      1.00         2\n      mammal       1.00      1.00      1.00        11\n     reptile       1.00      0.50      0.67         2\n\n    accuracy                           0.97        31\n   macro avg       0.93      0.93      0.90        31\nweighted avg       0.98      0.97      0.97        31\n\n"
    }
   ],
   "source": [
    "# Elimino animal de las features\n",
    "features.pop('animal')\n",
    "features_names.remove('animal')\n",
    "\n",
    "# Nuevamente divido el dataset en 70-30 para training y test respectivamente\n",
    "features_train, features_test, target_train, target_test = s(features, target, random_state=0, test_size=0.3)\n",
    "\n",
    "# Instancio el arbol por entropia\n",
    "t2 = tree.DecisionTreeClassifier(criterion='entropy')\n",
    "\n",
    "# Lo entreno\n",
    "t2.fit(features_train, target_train)\n",
    "\n",
    "# Almaceno el modelo en formato DOT\n",
    "zoo_dot = tree.export_graphviz(t2\n",
    "                    , out_file=None\n",
    "                    , feature_names=features_names\n",
    "                    , class_names=target_classes\n",
    "                    , label='all'\n",
    "                    , filled=True, rounded=True\n",
    "                    , special_characters=True)\n",
    "\n",
    "# Tambien lo guardo como PNG\n",
    "graph = graphviz.Source(zoo_dot)\n",
    "graph.format = 'png'\n",
    "graph.render('zoo_sin_animal')\n",
    "\n",
    "# Obtengo la prediccion con el set de prueba definido anteriormente\n",
    "prediccion2 = t2.predict(features_test)\n",
    "\n",
    "# Convierto a array para poder imprimirlo + facil\n",
    "target_test = pd.array(target_test)\n",
    "\n",
    "# Veo qué tan acertado estuvo\n",
    "print(f'\\n\\nPrecisión del modelo: {metrics.accuracy_score(target_test, prediccion2)}', end='\\n\\n')\n",
    "\n",
    "# Muestro un reporte de clasificación con diferentes métricas sobre cada feature \n",
    "print(f'Reporte de clasificación: \\n{metrics.classification_report(target_test, prediccion2)}')"
   ]
  },
  {
   "source": [
    "Árbol de clasificación **sin** la columna *animal*.\n",
    "\n",
    "![Arbol](zoo_sin_animal.png)"
   ],
   "cell_type": "markdown",
   "metadata": {}
  },
  {
   "source": [
    "***Observaciones:***\n",
    "- El árbol resultante se ve afectado estructuralmente en el ante-último sub-árbol de la izquierda. Es decir, el hijo izquierdo del nodo que se corresponde con la columna *predator*.\n",
    "- A nivel rendimiento, la precisión se mantuvo en 96.7% con un único error de clasificación: *fish* por *reptile*.\n",
    "- Esto se debe a que el único valor que aporta la columna *animal* es el nombre de cada animal del dataset, ergo su valor de Ganancia de Información es muy bajo para la clasificación por Entropía y por eso se ubica en el nivel 4 (anteúltimo) del modelo original.\n",
    "- Debido al uso del parámetro ``random_state=0`` en la separación de training y testing, los datos se desordenan para evitar repeticiones. Por lo tanto, a pesar de que la tasa de precisión se mantenga los errores de clasificación pueden variar porque los  sets de training y testing cambiaron y no por algún bug.\n",
    "\n",
    "___\n",
    "\n",
    "\n",
    "A continuación se realizarán dos podas diferentes para que al árbol alcance 4 niveles de profundidad:\n",
    "- Primero se usará el parámetro ``max_depth=4`` para limitar la profundidad.\n",
    "- Luego ``min_samples_leaf=5`` para limitar la cantidad mínima de samples por hoja (esto causa que el árbol se retraiga)."
   ],
   "cell_type": "markdown",
   "metadata": {}
  },
  {
   "cell_type": "code",
   "execution_count": 7,
   "metadata": {
    "tags": []
   },
   "outputs": [
    {
     "output_type": "stream",
     "name": "stdout",
     "text": "\n\nPrecisión del modelo: 0.9032258064516129\n\nReporte de clasificación: \n              precision    recall  f1-score   support\n\n   amphibian       0.50      1.00      0.67         1\n        bird       1.00      1.00      1.00         6\n        fish       0.88      1.00      0.93         7\n      insect       1.00      0.50      0.67         2\ninvertebrate       0.67      1.00      0.80         2\n      mammal       1.00      1.00      1.00        11\n     reptile       0.00      0.00      0.00         2\n\n    accuracy                           0.90        31\n   macro avg       0.72      0.79      0.72        31\nweighted avg       0.87      0.90      0.88        31\n\n"
    }
   ],
   "source": [
    "# Nuevamente divido el dataset en 70-30 para training y test respectivamente\n",
    "features_train, features_test, target_train, target_test = s(features, target, random_state=0, test_size=0.3)\n",
    "\n",
    "# Instancio el arbol por entropia y limito a 4 niveles\n",
    "t3 = tree.DecisionTreeClassifier(criterion='entropy', max_depth=4)\n",
    "\n",
    "# Lo entreno\n",
    "t3.fit(features_train, target_train)\n",
    "\n",
    "# Almaceno el modelo en formato DOT\n",
    "zoo_dot = tree.export_graphviz(t3\n",
    "                    , out_file=None\n",
    "                    , feature_names=features_names\n",
    "                    , class_names=target_classes\n",
    "                    , label='all'\n",
    "                    , filled=True, rounded=True\n",
    "                    , special_characters=True)\n",
    "\n",
    "# Tambien lo guardo como PNG\n",
    "graph = graphviz.Source(zoo_dot)\n",
    "graph.format = 'png'\n",
    "graph.render('zoo_limite_niveles')\n",
    "\n",
    "# Obtengo la prediccion con el set de prueba definido anteriormente\n",
    "prediccion3 = t3.predict(features_test)\n",
    "\n",
    "# Convierto a array para poder imprimirlo + facil\n",
    "target_test = pd.array(target_test)\n",
    "\n",
    "# Veo qué tan acertado estuvo\n",
    "print(f'\\n\\nPrecisión del modelo: {metrics.accuracy_score(target_test, prediccion3)}', end='\\n\\n')\n",
    "\n",
    "# Muestro un reporte de clasificación con diferentes métricas sobre cada feature \n",
    "print(f'Reporte de clasificación: \\n{metrics.classification_report(target_test, prediccion3)}')"
   ]
  },
  {
   "source": [
    "Árbol de clasificación con un *máximo* de 4 niveles de profundidad:\n",
    "\n",
    "![Arbol](zoo_limite_niveles.png)"
   ],
   "cell_type": "markdown",
   "metadata": {}
  },
  {
   "cell_type": "code",
   "execution_count": 8,
   "metadata": {
    "tags": []
   },
   "outputs": [
    {
     "output_type": "stream",
     "name": "stdout",
     "text": "\n\nPrecisión del modelo: 0.9032258064516129\n\nReporte de clasificación: \n              precision    recall  f1-score   support\n\n   amphibian       0.50      1.00      0.67         1\n        bird       1.00      1.00      1.00         6\n        fish       0.88      1.00      0.93         7\n      insect       1.00      0.50      0.67         2\ninvertebrate       0.67      1.00      0.80         2\n      mammal       1.00      1.00      1.00        11\n     reptile       0.00      0.00      0.00         2\n\n    accuracy                           0.90        31\n   macro avg       0.72      0.79      0.72        31\nweighted avg       0.87      0.90      0.88        31\n\n"
    }
   ],
   "source": [
    "# Nuevamente divido el dataset en 70-30 para training y test respectivamente\n",
    "features_train, features_test, target_train, target_test = s(features, target, random_state=0, test_size=0.3)\n",
    "\n",
    "# Instancio el arbol por entropia y limito a 4 niveles\n",
    "t4 = tree.DecisionTreeClassifier(criterion='entropy', min_samples_leaf=5)\n",
    "\n",
    "# Lo entreno\n",
    "t4.fit(features_train, target_train)\n",
    "\n",
    "# Almaceno el modelo en formato DOT\n",
    "zoo_dot = tree.export_graphviz(t4\n",
    "                    , out_file=None\n",
    "                    , feature_names=features_names\n",
    "                    , class_names=target_classes\n",
    "                    , label='all'\n",
    "                    , filled=True, rounded=True\n",
    "                    , special_characters=True)\n",
    "\n",
    "# Tambien lo guardo como PNG\n",
    "graph = graphviz.Source(zoo_dot)\n",
    "graph.format = 'png'\n",
    "graph.render('zoo_limite_samples')\n",
    "\n",
    "# Obtengo la prediccion con el set de prueba definido anteriormente\n",
    "prediccion4 = t4.predict(features_test)\n",
    "\n",
    "# Convierto a array para poder imprimirlo + facil\n",
    "target_test = pd.array(target_test)\n",
    "\n",
    "# Veo qué tan acertado estuvo\n",
    "print(f'\\n\\nPrecisión del modelo: {metrics.accuracy_score(target_test, prediccion4)}', end='\\n\\n')\n",
    "\n",
    "# Muestro un reporte de clasificación con diferentes métricas sobre cada feature \n",
    "print(f'Reporte de clasificación: \\n{metrics.classification_report(target_test, prediccion4)}')"
   ]
  },
  {
   "source": [
    "Árbol de clasificación con *límite mínimo* de 5 samples por hoja (y por ende con 4 niveles de profundidad):\n",
    "\n",
    "![Arbol](zoo_limite_samples.png)"
   ],
   "cell_type": "markdown",
   "metadata": {}
  },
  {
   "source": [
    "## Conclusiones:\n",
    "- Ambas podas poseen la misma precisión de 90.32%, sin embargo son estructuralmente diferentes.\n",
    "\n",
    "- La poda que impone un *límite máximo* de profundidad utilizando el parámetro ``max_depth`` posee un sub-árbol izquierdo más que la poda que impone un *límite mínimo* de 5 samples por hoja.\n",
    "\n",
    "- El rendimiento de ambas variantes **disminuyó** un ~6% con respecto al modelo original y además no permite identificar animales del tipo *reptile* por la falta de profundidad."
   ],
   "cell_type": "markdown",
   "metadata": {}
  }
 ]
}