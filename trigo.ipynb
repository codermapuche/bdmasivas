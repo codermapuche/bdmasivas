{
  "nbformat": 4,
  "nbformat_minor": 0,
  "metadata": {
    "colab": {
      "name": "trigo.ipynb",
      "provenance": [],
      "collapsed_sections": [],
      "authorship_tag": "ABX9TyMZbVPL5FOCz0gaNUxT4IaO",
      "include_colab_link": true
    },
    "kernelspec": {
      "name": "python3",
      "display_name": "Python 3"
    }
  },
  "cells": [
    {
      "cell_type": "markdown",
      "metadata": {
        "id": "view-in-github",
        "colab_type": "text"
      },
      "source": [
        "<a href=\"https://colab.research.google.com/github/ncavasin/bdmasivas/blob/master/trigo.ipynb\" target=\"_parent\"><img src=\"https://colab.research.google.com/assets/colab-badge.svg\" alt=\"Open In Colab\"/></a>"
      ]
    },
    {
      "cell_type": "markdown",
      "metadata": {
        "id": "FhxgeJ-CIsyL"
      },
      "source": [
        "### Universidad Nacional de Lujan - Bases de Datos Masivas (11088) - Cavasin Nicolas #143501\n",
        "# TP05-02 - Clustering\n",
        "\n",
        "### Ejercicio 4:\n",
        "**K-means**. Se provee un dataset sobre las características internas del núcleo de tres clases de trigo diferentes. Cargue el dataset en una de las herramientas de minería de datos provistas y resuelva:\n",
        "\n",
        "a. Utilice el algoritmo k-medias variando la cantidad de centroides a efectos de agrupar los datos de la manera más eficiente.\n",
        "\n",
        "b. ¿Cuál es la cantidad de grupos que permite un mejor agrupamiento de los datos? ¿Mediante cual métrica puede verificar esto?\n",
        "\n",
        "c. ¿Cuáles son las características más distintivas de cada uno de los cluters resultantes?"
      ]
    },
    {
      "cell_type": "code",
      "metadata": {
        "colab": {
          "base_uri": "https://localhost:8080/"
        },
        "id": "Hpt-xjHnHsT7",
        "outputId": "2afce882-887e-458c-b7f2-3fd196babbf8"
      },
      "source": [
        "!rm trigo.csv\n",
        "!wget https://raw.githubusercontent.com/bdm-unlu/2020/master/TPs/TP05/TP0502/trigo.csv"
      ],
      "execution_count": null,
      "outputs": [
        {
          "output_type": "stream",
          "text": [
            "rm: cannot remove 'trigo.csv': No such file or directory\n",
            "--2020-11-21 17:35:44--  https://raw.githubusercontent.com/bdm-unlu/2020/master/TPs/TP05/TP0502/trigo.csv\n",
            "Resolving raw.githubusercontent.com (raw.githubusercontent.com)... 151.101.0.133, 151.101.64.133, 151.101.128.133, ...\n",
            "Connecting to raw.githubusercontent.com (raw.githubusercontent.com)|151.101.0.133|:443... connected.\n",
            "HTTP request sent, awaiting response... 200 OK\n",
            "Length: 9369 (9.1K) [text/plain]\n",
            "Saving to: ‘trigo.csv’\n",
            "\n",
            "trigo.csv           100%[===================>]   9.15K  --.-KB/s    in 0s      \n",
            "\n",
            "2020-11-21 17:35:45 (70.7 MB/s) - ‘trigo.csv’ saved [9369/9369]\n",
            "\n"
          ],
          "name": "stdout"
        }
      ]
    },
    {
      "cell_type": "code",
      "metadata": {
        "colab": {
          "base_uri": "https://localhost:8080/",
          "height": 449
        },
        "id": "XzMBrdsvI5cb",
        "outputId": "6d46a0b5-4c8e-4863-bf97-b5e137bdd4a8"
      },
      "source": [
        "import pandas as pd\n",
        "\n",
        "trigo = pd.read_csv('trigo.csv', delimiter=';')\n",
        "\n",
        "print(f'Cantidad de tuplas: {trigo.shape[0]}.')\n",
        "print(f'Cantidad de columnas: {trigo.shape[1]}.')\n",
        "print(f'Cantidad de NaN\\'s: {trigo.isnull().sum().sum()}.\\n')\n",
        "print(f'Tipos de dato en cada columna: \\n{trigo.dtypes}')\n",
        "trigo.head()"
      ],
      "execution_count": null,
      "outputs": [
        {
          "output_type": "stream",
          "text": [
            "Cantidad de tuplas: 210.\n",
            "Cantidad de columnas: 8.\n",
            "Cantidad de NaN's: 0.\n",
            "\n",
            "Tipos de dato en cada columna: \n",
            "area               object\n",
            "perimetro          object\n",
            "compact            object\n",
            "long_kernel        object\n",
            "ancho_kernel       object\n",
            "coef_asimetrima    object\n",
            "long_ranura        object\n",
            "tipo                int64\n",
            "dtype: object\n"
          ],
          "name": "stdout"
        },
        {
          "output_type": "execute_result",
          "data": {
            "text/html": [
              "<div>\n",
              "<style scoped>\n",
              "    .dataframe tbody tr th:only-of-type {\n",
              "        vertical-align: middle;\n",
              "    }\n",
              "\n",
              "    .dataframe tbody tr th {\n",
              "        vertical-align: top;\n",
              "    }\n",
              "\n",
              "    .dataframe thead th {\n",
              "        text-align: right;\n",
              "    }\n",
              "</style>\n",
              "<table border=\"1\" class=\"dataframe\">\n",
              "  <thead>\n",
              "    <tr style=\"text-align: right;\">\n",
              "      <th></th>\n",
              "      <th>area</th>\n",
              "      <th>perimetro</th>\n",
              "      <th>compact</th>\n",
              "      <th>long_kernel</th>\n",
              "      <th>ancho_kernel</th>\n",
              "      <th>coef_asimetrima</th>\n",
              "      <th>long_ranura</th>\n",
              "      <th>tipo</th>\n",
              "    </tr>\n",
              "  </thead>\n",
              "  <tbody>\n",
              "    <tr>\n",
              "      <th>0</th>\n",
              "      <td>15,26</td>\n",
              "      <td>14,84</td>\n",
              "      <td>0,871</td>\n",
              "      <td>5,763</td>\n",
              "      <td>3,312</td>\n",
              "      <td>2,221</td>\n",
              "      <td>5,22</td>\n",
              "      <td>1</td>\n",
              "    </tr>\n",
              "    <tr>\n",
              "      <th>1</th>\n",
              "      <td>14,88</td>\n",
              "      <td>14,57</td>\n",
              "      <td>0,8811</td>\n",
              "      <td>5,554</td>\n",
              "      <td>3,333</td>\n",
              "      <td>1,018</td>\n",
              "      <td>4,956</td>\n",
              "      <td>1</td>\n",
              "    </tr>\n",
              "    <tr>\n",
              "      <th>2</th>\n",
              "      <td>14,29</td>\n",
              "      <td>14,09</td>\n",
              "      <td>0,905</td>\n",
              "      <td>5,291</td>\n",
              "      <td>3,337</td>\n",
              "      <td>2,699</td>\n",
              "      <td>4,825</td>\n",
              "      <td>1</td>\n",
              "    </tr>\n",
              "    <tr>\n",
              "      <th>3</th>\n",
              "      <td>13,84</td>\n",
              "      <td>13,94</td>\n",
              "      <td>0,8955</td>\n",
              "      <td>5,324</td>\n",
              "      <td>3,379</td>\n",
              "      <td>2,259</td>\n",
              "      <td>4,805</td>\n",
              "      <td>1</td>\n",
              "    </tr>\n",
              "    <tr>\n",
              "      <th>4</th>\n",
              "      <td>16,14</td>\n",
              "      <td>14,99</td>\n",
              "      <td>0,9034</td>\n",
              "      <td>5,658</td>\n",
              "      <td>3,562</td>\n",
              "      <td>1,355</td>\n",
              "      <td>5,175</td>\n",
              "      <td>1</td>\n",
              "    </tr>\n",
              "  </tbody>\n",
              "</table>\n",
              "</div>"
            ],
            "text/plain": [
              "    area perimetro compact  ... coef_asimetrima long_ranura tipo\n",
              "0  15,26     14,84   0,871  ...           2,221        5,22    1\n",
              "1  14,88     14,57  0,8811  ...           1,018       4,956    1\n",
              "2  14,29     14,09   0,905  ...           2,699       4,825    1\n",
              "3  13,84     13,94  0,8955  ...           2,259       4,805    1\n",
              "4  16,14     14,99  0,9034  ...           1,355       5,175    1\n",
              "\n",
              "[5 rows x 8 columns]"
            ]
          },
          "metadata": {
            "tags": []
          },
          "execution_count": 11
        }
      ]
    },
    {
      "cell_type": "markdown",
      "metadata": {
        "id": "qkqE6WVgI9P9"
      },
      "source": [
        "Se puede observar lo siguiente:\n",
        "\n",
        "1. El dataset no posee ``NaN``'s.\n",
        "\n",
        "2. Los valores que son strings (*objects*) deben ser convertidos a numericos:\n",
        "  - Primero reemplazando las ``,`` (comas) por ``.``(puntos).\n",
        "  - Luego sí, convirtiendo a *float64* utilizando la librería numpy.\n",
        "\n",
        "3. Posteriormente deben ser escalados para poder aplicar K-Means, ya que se basa en distancias y cada columna tiene diferentes unidades acordes al tipo de dato que representan."
      ]
    },
    {
      "cell_type": "code",
      "metadata": {
        "colab": {
          "base_uri": "https://localhost:8080/",
          "height": 258
        },
        "id": "Q1a5qNXmI-O-",
        "outputId": "c5be0911-f855-4015-9fee-05b27ff8c66f"
      },
      "source": [
        "import numpy as np\n",
        "\n",
        "# Clono el dataset\n",
        "trigo_numerizado = trigo.copy()\n",
        "\n",
        "# Convierto todos los strings a numericos reemplazando la ',' por un '.'\n",
        "# y luego los paso a float64 con numpy\n",
        "for col in trigo.columns:\n",
        "    if col != 'tipo':\n",
        "        trigo_numerizado[col] = pd.to_numeric(trigo[col].str.replace(',','.'))\n",
        "\n",
        "# Me guardo los nombres de las columnas\n",
        "column_names = trigo_numerizado.columns\n",
        "\n",
        "# Muestro como quedo\n",
        "trigo_numerizado.head()"
      ],
      "execution_count": 132,
      "outputs": [
        {
          "output_type": "stream",
          "text": [
            "Index(['area', 'perimetro', 'compact', 'long_kernel', 'ancho_kernel',\n",
            "       'coef_asimetrima', 'long_ranura', 'tipo'],\n",
            "      dtype='object')\n"
          ],
          "name": "stdout"
        },
        {
          "output_type": "execute_result",
          "data": {
            "text/html": [
              "<div>\n",
              "<style scoped>\n",
              "    .dataframe tbody tr th:only-of-type {\n",
              "        vertical-align: middle;\n",
              "    }\n",
              "\n",
              "    .dataframe tbody tr th {\n",
              "        vertical-align: top;\n",
              "    }\n",
              "\n",
              "    .dataframe thead th {\n",
              "        text-align: right;\n",
              "    }\n",
              "</style>\n",
              "<table border=\"1\" class=\"dataframe\">\n",
              "  <thead>\n",
              "    <tr style=\"text-align: right;\">\n",
              "      <th></th>\n",
              "      <th>area</th>\n",
              "      <th>perimetro</th>\n",
              "      <th>compact</th>\n",
              "      <th>long_kernel</th>\n",
              "      <th>ancho_kernel</th>\n",
              "      <th>coef_asimetrima</th>\n",
              "      <th>long_ranura</th>\n",
              "      <th>tipo</th>\n",
              "    </tr>\n",
              "  </thead>\n",
              "  <tbody>\n",
              "    <tr>\n",
              "      <th>0</th>\n",
              "      <td>15.26</td>\n",
              "      <td>14.84</td>\n",
              "      <td>0.8710</td>\n",
              "      <td>5.763</td>\n",
              "      <td>3.312</td>\n",
              "      <td>2.221</td>\n",
              "      <td>5.220</td>\n",
              "      <td>1</td>\n",
              "    </tr>\n",
              "    <tr>\n",
              "      <th>1</th>\n",
              "      <td>14.88</td>\n",
              "      <td>14.57</td>\n",
              "      <td>0.8811</td>\n",
              "      <td>5.554</td>\n",
              "      <td>3.333</td>\n",
              "      <td>1.018</td>\n",
              "      <td>4.956</td>\n",
              "      <td>1</td>\n",
              "    </tr>\n",
              "    <tr>\n",
              "      <th>2</th>\n",
              "      <td>14.29</td>\n",
              "      <td>14.09</td>\n",
              "      <td>0.9050</td>\n",
              "      <td>5.291</td>\n",
              "      <td>3.337</td>\n",
              "      <td>2.699</td>\n",
              "      <td>4.825</td>\n",
              "      <td>1</td>\n",
              "    </tr>\n",
              "    <tr>\n",
              "      <th>3</th>\n",
              "      <td>13.84</td>\n",
              "      <td>13.94</td>\n",
              "      <td>0.8955</td>\n",
              "      <td>5.324</td>\n",
              "      <td>3.379</td>\n",
              "      <td>2.259</td>\n",
              "      <td>4.805</td>\n",
              "      <td>1</td>\n",
              "    </tr>\n",
              "    <tr>\n",
              "      <th>4</th>\n",
              "      <td>16.14</td>\n",
              "      <td>14.99</td>\n",
              "      <td>0.9034</td>\n",
              "      <td>5.658</td>\n",
              "      <td>3.562</td>\n",
              "      <td>1.355</td>\n",
              "      <td>5.175</td>\n",
              "      <td>1</td>\n",
              "    </tr>\n",
              "  </tbody>\n",
              "</table>\n",
              "</div>"
            ],
            "text/plain": [
              "    area  perimetro  compact  ...  coef_asimetrima  long_ranura  tipo\n",
              "0  15.26      14.84   0.8710  ...            2.221        5.220     1\n",
              "1  14.88      14.57   0.8811  ...            1.018        4.956     1\n",
              "2  14.29      14.09   0.9050  ...            2.699        4.825     1\n",
              "3  13.84      13.94   0.8955  ...            2.259        4.805     1\n",
              "4  16.14      14.99   0.9034  ...            1.355        5.175     1\n",
              "\n",
              "[5 rows x 8 columns]"
            ]
          },
          "metadata": {
            "tags": []
          },
          "execution_count": 132
        }
      ]
    },
    {
      "cell_type": "code",
      "metadata": {
        "colab": {
          "base_uri": "https://localhost:8080/"
        },
        "id": "WRXuxbYRJA-S",
        "outputId": "5bfa5494-498e-4d20-85ce-3a68c106072b"
      },
      "source": [
        "# Ahora procedo con el escalado de valores\n",
        "from sklearn.preprocessing import scale\n",
        "\n",
        "# Escalo\n",
        "trigo_scaled = scale(trigo_numerizado)\n",
        "\n",
        "# Muestro resultado\n",
        "print(f'Valores escalados:\\n{trigo_scaled}')"
      ],
      "execution_count": null,
      "outputs": [
        {
          "output_type": "stream",
          "text": [
            "Valores escalados:\n",
            "[[ 1.42097769e-01  2.15462437e-01  6.06017918e-05 ... -9.86151745e-01\n",
            "  -3.83577423e-01 -1.22474487e+00]\n",
            " [ 1.11880257e-02  8.22375713e-03  4.28515270e-01 ... -1.78816620e+00\n",
            "  -9.22013487e-01 -1.22474487e+00]\n",
            " [-1.92066576e-01 -3.60200562e-01  1.44238325e+00 ... -6.67479334e-01\n",
            "  -1.18919199e+00 -1.22474487e+00]\n",
            " ...\n",
            " [-5.67570840e-01 -6.90247348e-01  7.33948301e-01 ...  3.07658816e+00\n",
            "  -7.18060432e-01  1.22474487e+00]\n",
            " [-1.03608992e+00 -1.03564515e+00 -8.01701104e-01 ... -6.81351965e-02\n",
            "  -7.42534799e-01  1.22474487e+00]\n",
            " [-8.77620233e-01 -9.35863561e-01 -1.10234659e-01 ...  1.29122264e+00\n",
            "  -7.03783718e-01  1.22474487e+00]]\n"
          ],
          "name": "stdout"
        }
      ]
    },
    {
      "cell_type": "code",
      "metadata": {
        "colab": {
          "base_uri": "https://localhost:8080/"
        },
        "id": "Lg-Jg8vyJC0R",
        "outputId": "890da870-259e-4297-a751-b035fa15e1ef"
      },
      "source": [
        "# Importo para clusterizar\n",
        "from sklearn.cluster import KMeans\n",
        "\n",
        "# Importo para graficar\n",
        "import matplotlib.pyplot as plt\n",
        "\n",
        "# Instancio el algoritmo con 3 centroides iniciales\n",
        "km = KMeans(\n",
        "    n_clusters=3, init='random',\n",
        "    n_init=10, random_state=0\n",
        ")\n",
        "\n",
        "# Ejecuto el algoritmo\n",
        "trigo_pred = km.fit_predict(trigo_scaled)\n",
        "\n",
        "print(f'Agrupamiento resultante:\\n{trigo_pred}')"
      ],
      "execution_count": 124,
      "outputs": [
        {
          "output_type": "stream",
          "text": [
            "Agrupamiento resultante:\n",
            "[2 2 2 2 2 2 2 2 0 2 2 2 2 2 2 2 2 2 2 2 2 2 2 2 2 2 2 2 2 2 2 2 2 2 2 2 2\n",
            " 0 2 2 2 2 2 2 2 2 2 2 2 2 2 2 2 2 2 2 2 2 2 2 2 2 2 2 2 2 2 2 2 2 0 0 0 0\n",
            " 0 0 0 0 0 0 0 0 0 0 0 0 0 0 0 0 0 0 0 0 0 0 0 0 0 0 0 0 0 0 0 0 0 0 0 0 0\n",
            " 0 0 0 0 0 0 0 0 0 0 0 0 0 2 0 0 0 0 0 0 0 0 0 0 2 0 0 0 0 1 1 1 1 1 1 1 1\n",
            " 1 1 1 1 1 1 1 1 1 1 1 1 1 1 1 1 1 1 1 1 1 1 1 1 1 1 1 1 1 1 1 1 1 1 1 1 1\n",
            " 1 1 1 1 1 1 1 1 1 1 1 1 1 1 1 1 1 1 1 1 1 1 1 1 1]\n"
          ],
          "name": "stdout"
        }
      ]
    },
    {
      "cell_type": "code",
      "metadata": {
        "id": "wtZ8qH-aO5pv",
        "colab": {
          "base_uri": "https://localhost:8080/",
          "height": 483
        },
        "outputId": "9ef2010d-0519-45dd-fd05-e6351895aa4b"
      },
      "source": [
        "# Importo para graficar\n",
        "import matplotlib.pyplot as plt\n",
        "\n",
        "# Creo el grafico\n",
        "plt.figure(figsize=(8,8))\n",
        "\n",
        "# Scatter del primer cluster\n",
        "plt.scatter(\n",
        "    trigo_scaled[trigo_pred == 0, 0], \n",
        "    trigo_scaled[trigo_pred == 0, 1],\n",
        "    c='lightgreen',\n",
        "    marker='o', edgecolor='black',\n",
        "    label='cluster 1'\n",
        ")\n",
        "\n",
        "# Scatter del segundo cluster\n",
        "plt.scatter(\n",
        "    trigo_scaled[trigo_pred == 1, 0], \n",
        "    trigo_scaled[trigo_pred == 1, 1],\n",
        "    s=50, c='magenta',\n",
        "    marker='X', edgecolor='black',\n",
        "    label='cluster 2'\n",
        ")\n",
        "\n",
        "# Scatter del tercer cluster\n",
        "plt.scatter(\n",
        "    trigo_scaled[trigo_pred == 2, 0], \n",
        "    trigo_scaled[trigo_pred == 2, 1],\n",
        "    s=50, c='red',\n",
        "    marker='h', edgecolor='black',\n",
        "    label='cluster 3'\n",
        ")\n",
        "\n",
        "# Scatter del los centroides\n",
        "plt.scatter(\n",
        "    km.cluster_centers_[:, 0], km.cluster_centers_[:, 1],\n",
        "    s=250, marker='*',\n",
        "    c='yellow', edgecolor='black',\n",
        "    label='centroides'\n",
        ")\n",
        "\n",
        "# Inserto leyenda\n",
        "plt.legend(scatterpoints=1)\n",
        "\n",
        "# Agrego el grid \n",
        "plt.grid()\n",
        "\n",
        "# Lo muestro\n",
        "plt.show()"
      ],
      "execution_count": 128,
      "outputs": [
        {
          "output_type": "display_data",
          "data": {
            "image/png": "[encoded data removed]",
            "text/plain": [
              "<Figure size 576x576 with 1 Axes>"
            ]
          },
          "metadata": {
            "tags": [],
            "needs_background": "light"
          }
        }
      ]
    },
    {
      "cell_type": "markdown",
      "metadata": {
        "id": "oiH3yVCDLsSZ"
      },
      "source": [
        "Se aplicó **K-Means** utilizando 3 clusters y como resultado se observa una agrupación de datos bastante correcta. \n",
        "\n",
        "En el caso de que haya superposiciones de puntos pertenecientes a diferentes clusters, es importante recordar que se puede deber a:\n",
        "- Mala selección de clusters.\n",
        "- Se están graficando solo dos variables de un dataset multidimensional, por lo tanto puede que una variable clave (que determina a cuál cluster pertenece un punto) no haya sido graficada.\n",
        "\n",
        "De todas maneras, para determinar la cantidad de clusters que mejor agrupa los datos, se pueden aplicar dos técnicas:\n",
        "- *Método de Elbow*.\n",
        "- *Coeficiente silueta*.\n",
        "\n",
        "A continuación se aplicará el *método Elbow*:"
      ]
    },
    {
      "cell_type": "code",
      "metadata": {
        "colab": {
          "base_uri": "https://localhost:8080/",
          "height": 497
        },
        "id": "4YEi7SYYMxVD",
        "outputId": "4cb5cb0f-83c4-4628-88e8-517decd709f4"
      },
      "source": [
        "# Corro el algoritmo con K entre 2 y 10 y voy guardando el error para luego graficarlo.\n",
        "\n",
        "# Creo la lista de errores\n",
        "# sse = Sum of Squared Error\n",
        "sse = []\n",
        "\n",
        "# Creo la lista de modelos con 10 clusters (0 a 9 clusters)\n",
        "lista_modelos = list(range(1, 10))\n",
        "\n",
        "# Por cada version de clusters de K-means\n",
        "for num_clusters in lista_modelos:\n",
        "    # Instancio la version con num_clusters cantidad de clusters\n",
        "    num_clusters = KMeans(n_clusters=num_clusters)\n",
        "    # La entreno\n",
        "    num_clusters.fit(trigo_scaled)\n",
        "    # Obtengo su error\n",
        "    sse.append(num_clusters.inertia_)\n",
        "\n",
        "# Grafico el SSE por cada modelo\n",
        "plt.figure(figsize=(8, 8))\n",
        "\n",
        "plt.plot(lista_modelos, sse, '-o')\n",
        "plt.grid()\n",
        "plt.xlabel(r'Cantidad de clusters (k)')\n",
        "plt.ylabel('SSE');\n",
        "\n"
      ],
      "execution_count": null,
      "outputs": [
        {
          "output_type": "display_data",
          "data": {
            "image/png": "[encoded data removed]",
            "text/plain": [
              "<Figure size 576x576 with 1 Axes>"
            ]
          },
          "metadata": {
            "tags": [],
            "needs_background": "light"
          }
        }
      ]
    },
    {
      "cell_type": "markdown",
      "metadata": {
        "id": "obdikwOmPyoE"
      },
      "source": [
        "El *método Elbow* nos confirma que la cantidad ideal de clusters es 3 y que la superposición de puntos de diferentes clusters se debe a *la maldición de la dimensionalidad* explicada anteriormente."
      ]
    },
    {
      "cell_type": "code",
      "metadata": {
        "colab": {
          "base_uri": "https://localhost:8080/"
        },
        "id": "1PTs4xPtXDPN",
        "outputId": "62015e8e-f13d-49f4-992c-68abad356a1c"
      },
      "source": [
        "# Calculo la moda sobre la columna 'tipo' de los puntos que pertenecen al cluster 3\n",
        "moda_c1 = pd.DataFrame.mode(trigo[trigo_pred==0], dropna=True)\n",
        "print(f\"Moda cluster 1: {moda_c1.loc[0, 'tipo']}\")\n",
        "\n",
        "# Calculo la moda sobre la columna 'tipo' de los puntos que pertenecen al cluster 3\n",
        "moda_c2 = pd.DataFrame.mode(trigo[trigo_pred==1], dropna=True)\n",
        "print(f\"Moda cluster 2: {moda_c2.loc[0, 'tipo']}\")\n",
        "\n",
        "# Calculo la moda sobre la columna 'tipo' de los puntos que pertenecen al cluster 3\n",
        "moda_c3 = pd.DataFrame.mode(trigo[trigo_pred==2], dropna=True)\n",
        "print(f\"Moda cluster 3: {moda_c3.loc[0, 'tipo']}\")\n"
      ],
      "execution_count": 191,
      "outputs": [
        {
          "output_type": "stream",
          "text": [
            "Moda cluster 1: 2.0\n",
            "Moda cluster 2: 3.0\n",
            "Moda cluster 3: 1.0\n"
          ],
          "name": "stdout"
        }
      ]
    },
    {
      "cell_type": "markdown",
      "metadata": {
        "id": "_pXFD2CBXDm1"
      },
      "source": [
        "***Observaciones:***\n",
        "\n",
        "En el gráfico se graficaron las variables '*área*' y '*perímetro*' del dataset y con cada color y forma se indicó a cuál cluster pertenecía cada tupla del dataframe. \n",
        "\n",
        "Sin embargo, y como se explicó anteriormente, debido a la *maldición de la dimensionalidad* en el scatterplot se ven puntos de diferentes clusters que se superponen o están muy cerca entre sí.\n",
        "\n",
        "Para finalizar, se calculó la moda de cada cluster y se identificó el tipo de trigo que es más común encontrar en cada uno de ellos.\n",
        "\n",
        "## Conclusiones:\n",
        "1. A simple vista, y sin importar a qué cluster pertenece cada punto, se puede decir que hay una relación de *dependencia lineal* entre las variables graficadas (y que está matemáticamente respaldada también).\n",
        "\n",
        "2. El cluster #3 representa a los tipos de trigo con mayor área y perímetro de todo el dataset, los cuales pertenecen al trigo de **tipo 1**.\n",
        "\n",
        "3. El cluster #2 posee en su mayoría trigo **tipo 3**. Este tipo de trigo posee un *área* y un *perímetro* con valores promedio respecto a los otros dos presentes en el dataset, pues se ubica en el centro del gráfico.\n",
        "\n",
        "4. El cluster #1 posee una moda de trigo de **tipo 2**, cuyos valores de *área* y *perímetro* son los de menor tamaño de todo el dataset."
      ]
    }
  ]
}